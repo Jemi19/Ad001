{
 "cells": [
  {
   "attachments": {},
   "cell_type": "markdown",
   "metadata": {},
   "source": [
    "# DZ-(07.11.2024)"
   ]
  },
  {
   "attachments": {},
   "cell_type": "markdown",
   "metadata": {},
   "source": [
    "Создайте модуль \"shopping_list.py\", который будет реализовывать функционал списка покупок. Внутри должны быть функции add_item (для добавления в список, например «Хлеб, 2», где «Хлеб» - ключ, «2» - значение, которой по умолчанию в функции равно 0), remove_item для удаления покупки из списка, edit_quantity для редактирования количества (то есть значения), view_list для отображения всего списка (то есть словаря). Создайте новый файл, куда вы импортируете созданный модуль и отобразите работу каждый из этих функций. Например, пользователь сначала добавил в список три покупки: Хлеб – 2, Молоко, Яйца – 10, далее посмотрел этот список; потом он понял, что не хочет молоко, удалил его, посмотрел измененный список; потом решил, что 10 яиц – это много, и поменял их количество на 7 и в конце решил посмотреть на итоговый список."
   ]
  },
  {
   "cell_type": "code",
   "execution_count": null,
   "metadata": {},
   "outputs": [],
   "source": [
    "class ShoppingList:\n",
    "    def __init__(self):\n",
    "        self.items = []\n",
    "    def add_item(self, item):\n",
    "        self.items.append(item)\n",
    "    def view_items(self):\n",
    "        for item in self.items:\n",
    "            print(item)\n",
    "    def remove_item(self, item):\n",
    "        if item in self.items:\n",
    "            self.items.remove(item)\n",
    "\n",
    "def main():\n",
    "    shopping_list = ShoppingList()\n",
    "    while True:\n",
    "        print(\"Что бы вы хотели добавить в свой список покупок?\")\n",
    "        item = input(\"> \")\n",
    "        if item.lower() == \"exit\":\n",
    "            break\n",
    "        shopping_list.add_item(item)\n",
    "        print(\"Ваш список покупок:\")\n",
    "        shopping_list.view_items()\n",
    "if __name__ == \"__main__\":\n",
    "    main()"
   ]
  },
  {
   "attachments": {},
   "cell_type": "markdown",
   "metadata": {},
   "source": [
    "Дополнительно: улучшите функционал, если вы, конечно, изначально так не сделали, следующим образом. Если добавляемый объект уже содержится в списке (например, «Хлеб» уже есть, но мы хотим добавить его еще раз), то он не добавляет в словарь новую строку, а прибавляет количество (значение) к этому же наименованию. Заодно повторите работу со словарями 😊"
   ]
  },
  {
   "cell_type": "code",
   "execution_count": null,
   "metadata": {},
   "outputs": [],
   "source": []
  }
 ],
 "metadata": {
  "kernelspec": {
   "display_name": "Test001",
   "language": "python",
   "name": "python3"
  },
  "language_info": {
   "codemirror_mode": {
    "name": "ipython",
    "version": 3
   },
   "file_extension": ".py",
   "mimetype": "text/x-python",
   "name": "python",
   "nbconvert_exporter": "python",
   "pygments_lexer": "ipython3",
   "version": "3.12.6"
  },
  "orig_nbformat": 4,
  "vscode": {
   "interpreter": {
    "hash": "6aab11d748192142d12407ff1a9f8db39134eb6760e357ccb059f3040b063636"
   }
  }
 },
 "nbformat": 4,
 "nbformat_minor": 2
}
