{
 "cells": [
  {
   "cell_type": "markdown",
   "metadata": {},
   "source": [
    "# 08/03/2025"
   ]
  },
  {
   "cell_type": "markdown",
   "metadata": {},
   "source": [
    "Задание 1: Эхо-сервер (TCP)\n",
    "Цель: Научиться создавать простое клиент-серверное взаимодействие через TCP.\n",
    "Задача:\n",
    "1. Реализуйте TCP-сервер, который:\n",
    "o Принимает подключение клиента.\n",
    "o Получает от клиента строку.\n",
    "o Отправляет обратно ту же строку (эффект \"эхо\").\n",
    "o Завершает соединение после ответа.\n",
    "2. Реализуйте TCP-клиента, который:\n",
    "o Подключается к серверу.\n",
    "o Отправляет любое сообщение.\n",
    "o Получает и выводит ответ сервера.\n",
    "3. Дополнительно: Измерьте время работы клиента — от подключения до получения\n",
    "ответа.\n",
    "Пример работы:\n",
    "Клиент отправил: Привет, сервер!\n",
    "Сервер ответил: Привет, сервер!"
   ]
  },
  {
   "cell_type": "code",
   "execution_count": 6,
   "metadata": {},
   "outputs": [
    {
     "name": "stdout",
     "output_type": "stream",
     "text": [
      "Слушаю на :65432\n",
      "Таймер истек, сервер останавливается.\n"
     ]
    },
    {
     "ename": "",
     "evalue": "",
     "output_type": "error",
     "traceback": [
      "\u001b[1;31mПри выполнении кода в текущей ячейке или предыдущей ячейке ядро аварийно завершило работу. \n",
      "\u001b[1;31mПроверьте код в ячейках, чтобы определить возможную причину сбоя. \n",
      "\u001b[1;31mЩелкните <a href='https://aka.ms/vscodeJupyterKernelCrash'>здесь</a>, чтобы получить дополнительные сведения. \n",
      "\u001b[1;31mПодробнее см. в <a href='command:jupyter.viewOutput'>журнале Jupyter</a>."
     ]
    }
   ],
   "source": [
    "import socket\n",
    "import threading\n",
    "import time\n",
    "\n",
    "# Задание адреса и порта для прослушивания\n",
    "HOST = ''  # Все интерфейсы\n",
    "PORT = 65432  # Порт для прослушивания\n",
    "\n",
    "def main():\n",
    "    with socket.socket(socket.AF_INET, socket.SOCK_STREAM) as server_socket:\n",
    "        try:\n",
    "            # Привязка сокета к адресу и порту\n",
    "            server_socket.bind((HOST, PORT))\n",
    "            server_socket.listen()\n",
    "            print(f\"Слушаю на {HOST}:{PORT}\")\n",
    "        \n",
    "            timer_thread = threading.Timer(6, stop_server)  # Таймер на 6 секунд\n",
    "            timer_thread.start()  # Запуск таймера\n",
    "\n",
    "            while True:\n",
    "                conn, addr = server_socket.accept()  # Принятие нового соединения\n",
    "                handle_client(conn, addr)\n",
    "        except KeyboardInterrupt:\n",
    "            print(\"\\nСервер остановлен.\")\n",
    "\n",
    "def handle_client(conn, addr):\n",
    "    print(f\"Принято новое соединение от {addr}\")\n",
    "    with conn:\n",
    "        while True:\n",
    "            data = conn.recv(1024).decode('utf-8')  # Получение данных от клиента\n",
    "            if not data:\n",
    "                break\n",
    "            print(f\"Принял данные: {data}\")\n",
    "            conn.sendall(data.encode('utf-8'))  # Ответ клиенту (echo)\n",
    "            print(f\"Отправил данные обратно: {data}\")\n",
    "\n",
    "def stop_server():\n",
    "    \"\"\"Функция остановки сервера\"\"\"\n",
    "    print(\"Таймер истек, сервер останавливается.\")\n",
    "    exit(0)  # Завершение выполнения программы\n",
    "\n",
    "if __name__ == \"__main__\":\n",
    "    main()"
   ]
  },
  {
   "cell_type": "code",
   "execution_count": 2,
   "metadata": {},
   "outputs": [
    {
     "name": "stdout",
     "output_type": "stream",
     "text": [
      "Не удалось подключиться к серверу localhost:65432. Проверьте, запущен ли сервер.\n"
     ]
    }
   ],
   "source": [
    "import socket\n",
    "import time\n",
    "\n",
    "# Задание адреса и порта сервера\n",
    "SERVER_HOST = 'localhost'  # Или IP-адрес сервера\n",
    "SERVER_PORT = 65432  # Тот же порт, что используется сервером\n",
    "\n",
    "def main():\n",
    "    with socket.socket(socket.AF_INET, socket.SOCK_STREAM) as client_socket:\n",
    "        try:\n",
    "            client_socket.connect((SERVER_HOST, SERVER_PORT))\n",
    "            message = input(\"Введите сообщение для отправки серверу: \")\n",
    "            client_socket.sendall(message.encode('utf-8'))\n",
    "\n",
    "            response = client_socket.recv(1024).decode('utf-8')\n",
    "            print(f\"Сервер ответил: {response}\")\n",
    "        except ConnectionRefusedError:\n",
    "            print(f\"Не удалось подключиться к серверу {SERVER_HOST}:{SERVER_PORT}. Проверьте, запущен ли сервер.\")\n",
    "\n",
    "if __name__ == \"__main__\":\n",
    "    main()"
   ]
  },
  {
   "cell_type": "code",
   "execution_count": 2,
   "metadata": {},
   "outputs": [
    {
     "name": "stdout",
     "output_type": "stream",
     "text": [
      "Программа работает...\n",
      "Процесс остановлен.\n"
     ]
    }
   ],
   "source": [
    "import time\n",
    "\n",
    "def main():\n",
    "    while True:\n",
    "        print(\"Программа работает...\")\n",
    "        time.sleep(3)  # Пауза на 3 секунд\n",
    "        break  # Прерывание цикла и завершение процесса\n",
    "    print(\"Процесс остановлен.\")\n",
    "\n",
    "if __name__ == \"__main__\":\n",
    "    main()"
   ]
  },
  {
   "cell_type": "markdown",
   "metadata": {},
   "source": [
    "Задание 2: Многопоточный чат (TCP)\n",
    "Цель: Освоить многопоточное программирование с использованием сокетов для\n",
    "поддержки нескольких клиентов одновременно.\n",
    "Задача:\n",
    "1. Напишите TCP-сервер, который:\n",
    "o Поддерживает несколько подключений одновременно с помощью потоков.\n",
    "o Принимает сообщения от каждого клиента.\n",
    "o Отправляет полученное сообщение всем остальным подключенным\n",
    "клиентам (эффект группового чата).\n",
    "2. Напишите TCP-клиента, который:\n",
    "o Подключается к серверу.\n",
    "o Отправляет и получает сообщения, пока пользователь не введет \"exit\".\n",
    "3. Дополнительно: Реализуйте возможность приватного чата (команды вида @user:\n",
    "Привет!).\n",
    "Пример работы:\n",
    "[User1]: Привет, это чат!\n",
    "[User2]: Привет! Как дела?"
   ]
  },
  {
   "cell_type": "code",
   "execution_count": 5,
   "metadata": {},
   "outputs": [],
   "source": [
    "def handle_client(conn, addr):\n",
    "    # Получаем имя пользователя\n",
    "    conn.sendall('Пожалуйста, введите ваше имя пользователя: '.encode('utf-8'))\n",
    "    username = conn.recv(1024).decode('utf-8').strip()\n",
    "    \n",
    "    # Регистрируем пользователя\n",
    "    with lock:\n",
    "        clients[username] = conn\n",
    "        print(f'[NEW USER] {username} joined.')\n",
    "        broadcast(f'{username} присоединился к чату.', exclude=[conn])\n",
    "\n",
    "    try:\n",
    "        while True:\n",
    "            data = conn.recv(1024).decode('utf-8')\n",
    "            if not data:\n",
    "                break\n",
    "            \n",
    "            if '@' in data and ':' in data:\n",
    "                # Это приватное сообщение\n",
    "                target_username, message = data.split(':')[0].strip(), ':'.join(data.split(':')[1:])\n",
    "                target_user = target_username.strip('@')\n",
    "                if target_user in clients:\n",
    "                    clients[target_user].sendall(f'[PRIVATE MESSAGE FROM {username}] {message}'.encode('utf-8'))\n",
    "                else:\n",
    "                    conn.sendall(f'Пользователь {target_user} не найден.'.encode('utf-8'))\n",
    "            else:\n",
    "                # Это публичное сообщение\n",
    "                broadcast(f'[{username}] {data}', exclude=[conn])\n",
    "    except ConnectionResetError:\n",
    "        pass\n",
    "    finally:\n",
    "        with lock:\n",
    "            if username in clients:\n",
    "                del clients[username]\n",
    "                broadcast(f'{username} покинул чат.', exclude=[conn])\n",
    "        conn.close()\n",
    "        print(f'[DISCONNECTED] {addr}')"
   ]
  },
  {
   "cell_type": "code",
   "execution_count": 2,
   "metadata": {},
   "outputs": [],
   "source": [
    "def broadcast(message, exclude=None):\n",
    "    if exclude is None:\n",
    "        exclude = []\n",
    "    for user_conn in clients.values():\n",
    "        if user_conn not in exclude:\n",
    "            user_conn.sendall(message.encode())"
   ]
  },
  {
   "cell_type": "code",
   "execution_count": 3,
   "metadata": {},
   "outputs": [],
   "source": [
    "def send_message():\n",
    "    while True:\n",
    "        message = input('')\n",
    "        if message.startswith('/'):\n",
    "            # Обработка команд\n",
    "            command = message.split()[0][1:]\n",
    "            if command == 'help':\n",
    "                print_help()\n",
    "            elif command == 'list_users':\n",
    "                list_users()\n",
    "            elif command == 'private':\n",
    "                private_message(message)\n",
    "            else:\n",
    "                print('Неизвестная команда. Используйте /help для получения списка команд.')\n",
    "        elif message.lower().strip() == 'exit':\n",
    "            break\n",
    "        else:\n",
    "            client_socket.sendall(message.encode())\n",
    "    client_socket.close()\n",
    "    sys.exit()"
   ]
  },
  {
   "cell_type": "code",
   "execution_count": 4,
   "metadata": {},
   "outputs": [],
   "source": [
    "def connect_to_server():\n",
    "    global client_socket\n",
    "    try:\n",
    "        client_socket = socket.socket(socket.AF_INET, socket.SOCK_STREAM)\n",
    "        client_socket.connect((HOST, PORT))\n",
    "        print('Подключение к серверу установлено.')\n",
    "    except Exception as e:\n",
    "        print(f'Ошибка подключения к серверу: {str(e)}')\n",
    "        return"
   ]
  },
  {
   "cell_type": "code",
   "execution_count": 5,
   "metadata": {},
   "outputs": [],
   "source": [
    "def receive_messages():\n",
    "    while True:\n",
    "        try:\n",
    "            client_socket.settimeout(1)  # Установка таймаута в 1 секунду\n",
    "            data = client_socket.recv(BUFFER_SIZE).decode('utf-8')\n",
    "            if not data:\n",
    "                continue\n",
    "            print(data)\n",
    "        except socket.timeout:\n",
    "            continue\n",
    "        except OSError:\n",
    "            break"
   ]
  },
  {
   "cell_type": "markdown",
   "metadata": {},
   "source": [
    "Задание 3: Сервер времени (UDP)\n",
    "Цель: Научиться работать с UDP и понять разницу с TCP.\n",
    "Задача:\n",
    "1. Реализуйте UDP-сервер, который:\n",
    "o Слушает порт.\n",
    "o Отвечает текущим временем в формате: HH:MM:SS.\n",
    "2. Реализуйте UDP-клиента, который:\n",
    "o Отправляет запрос серверу с текстом \"time\".\n",
    "o Получает и выводит текущее время от сервера.\n",
    "3. Дополнительно: Измерьте задержку между отправкой запроса и получением\n",
    "ответа.\n",
    "Пример работы:\n",
    "Запрос клиента: time\n",
    "Ответ сервера: 14:05:32"
   ]
  },
  {
   "cell_type": "code",
   "execution_count": 1,
   "metadata": {},
   "outputs": [
    {
     "name": "stdout",
     "output_type": "stream",
     "text": [
      "Сервер времени прослушивает порт 12345.\n"
     ]
    },
    {
     "ename": "",
     "evalue": "",
     "output_type": "error",
     "traceback": [
      "\u001b[1;31mПри выполнении кода в текущей ячейке или предыдущей ячейке ядро аварийно завершило работу. \n",
      "\u001b[1;31mПроверьте код в ячейках, чтобы определить возможную причину сбоя. \n",
      "\u001b[1;31mЩелкните <a href='https://aka.ms/vscodeJupyterKernelCrash'>здесь</a>, чтобы получить дополнительные сведения. \n",
      "\u001b[1;31mПодробнее см. в <a href='command:jupyter.viewOutput'>журнале Jupyter</a>."
     ]
    }
   ],
   "source": [
    "import socket\n",
    "import datetime\n",
    "\n",
    "# Настройки сервера\n",
    "SERVER_HOST = \"127.0.0.1\"\n",
    "SERVER_PORT = 12345\n",
    "\n",
    "\n",
    "def udp_time_server():\n",
    "    try:\n",
    "        # Создаем UDP-сокет\n",
    "        with socket.socket(socket.AF_INET, socket.SOCK_DGRAM) as server_socket:\n",
    "            server_socket.bind((SERVER_HOST, SERVER_PORT))\n",
    "\n",
    "            print(f\"Сервер времени прослушивает порт {SERVER_PORT}.\")\n",
    "\n",
    "            while True:\n",
    "                # Ожидаем запрос от клиента\n",
    "                request_data, address = server_socket.recvfrom(1024)\n",
    "\n",
    "                # Преобразуем данные в строку\n",
    "                request_text = request_data.decode(\"utf-8\").strip()\n",
    "\n",
    "                if request_text == \"time\":\n",
    "                    # Получаем текущее время\n",
    "                    current_time = datetime.datetime.now().strftime(\"%H:%M:%S\")\n",
    "                    response_data = f\"Текущее время: {current_time}\"\n",
    "\n",
    "                    # Отправляем ответ клиенту\n",
    "                    server_socket.sendto(response_data.encode(\"utf-8\"), address)\n",
    "\n",
    "                    print(f\"Запрошено время от {address}, ответ: {response_data}\")\n",
    "                else:\n",
    "                    print(f\"Поступил неизвестный запрос '{request_text}' от {address}\")\n",
    "    except KeyboardInterrupt:\n",
    "        print(\"\\nПрервано пользователем.\")\n",
    "    except Exception as e:\n",
    "        print(f\"Ошибка: {str(e)}\")\n",
    "\n",
    "\n",
    "if __name__ == \"__main__\":\n",
    "    udp_time_server()"
   ]
  },
  {
   "cell_type": "code",
   "execution_count": 1,
   "metadata": {},
   "outputs": [
    {
     "name": "stdout",
     "output_type": "stream",
     "text": [
      "Ошибка: [WinError 10054] Удаленный хост принудительно разорвал существующее подключение\n"
     ]
    }
   ],
   "source": [
    "import socket\n",
    "import time\n",
    "\n",
    "# Настройки клиента\n",
    "CLIENT_HOST = \"127.0.0.1\"\n",
    "CLIENT_PORT = 12345\n",
    "\n",
    "\n",
    "def udp_time_client():\n",
    "    try:\n",
    "        # Создаем UDP-сокет\n",
    "        with socket.socket(socket.AF_INET, socket.SOCK_DGRAM) as client_socket:\n",
    "            # Отправляем запрос серверу\n",
    "            request_data = b\"time\"\n",
    "            client_socket.sendto(request_data, (CLIENT_HOST, CLIENT_PORT))\n",
    "\n",
    "            # Ждем немного, чтобы сервер успел обработать запрос\n",
    "            time.sleep(0.1)\n",
    "\n",
    "            # Измеряем время отправки запроса\n",
    "            start_time = time.time()\n",
    "\n",
    "            # Получаем ответ от сервера\n",
    "            response_data, _ = client_socket.recvfrom(2048)  # Увеличили размер буфера\n",
    "\n",
    "            # Измеряем время получения ответа\n",
    "            end_time = time.time()\n",
    "\n",
    "            # Расчет задержки\n",
    "            delay = end_time - start_time\n",
    "\n",
    "            # Преобразуем данные в строку\n",
    "            response_text = response_data.decode(\"utf-8\").strip()\n",
    "\n",
    "            print(f\"Полученный ответ: {response_text}\")\n",
    "            print(f\"Задержка: {delay:.6f} секунд\")\n",
    "    except KeyboardInterrupt:\n",
    "        print(\"\\nПрервано пользователем.\")\n",
    "    except Exception as e:\n",
    "        print(f\"Ошибка: {str(e)}\")\n",
    "\n",
    "\n",
    "if __name__ == \"__main__\":\n",
    "    udp_time_client()"
   ]
  }
 ],
 "metadata": {
  "kernelspec": {
   "display_name": "Python 3",
   "language": "python",
   "name": "python3"
  },
  "language_info": {
   "codemirror_mode": {
    "name": "ipython",
    "version": 3
   },
   "file_extension": ".py",
   "mimetype": "text/x-python",
   "name": "python",
   "nbconvert_exporter": "python",
   "pygments_lexer": "ipython3",
   "version": "3.11.9"
  }
 },
 "nbformat": 4,
 "nbformat_minor": 2
}
