{
 "cells": [
  {
   "cell_type": "markdown",
   "metadata": {},
   "source": [
    "# 03/03/2025"
   ]
  },
  {
   "cell_type": "markdown",
   "metadata": {},
   "source": [
    "Задание 1. Разработка и тестирование системы управления пользователями\n",
    " Описание: Разработайте класс User, который хранит информацию о пользователе\n",
    "(имя, email, возраст). Затем создайте класс UserManager, который управляет\n",
    "пользователями: добавляет их, удаляет и ищет по email.\n",
    " Что нужно сделать:\n",
    "• Реализовать классы User и UserManager.\n",
    "• Написать модульные тесты для проверки работы:\n",
    "o Добавления и удаления пользователей.\n",
    "o Поиска пользователей по email.\n",
    "o Обработки ошибок (например, добавления пользователя с уже\n",
    "существующим email).\n"
   ]
  },
  {
   "cell_type": "code",
   "execution_count": 79,
   "metadata": {},
   "outputs": [
    {
     "name": "stdout",
     "output_type": "stream",
     "text": [
      "User(name=Иван Иванов, email=ivan@example.com, age=25)\n"
     ]
    }
   ],
   "source": [
    "class User:\n",
    "    def __init__(self, name, email, age):\n",
    "        \"\"\" Конструктор класса User. :param name: Имя пользователя. :param email: Email пользователя. :param age: Возраст пользователя. \"\"\"\n",
    "        self.name = name\n",
    "        self.email = email\n",
    "        self.age = age\n",
    "\n",
    "    def __repr__(self):\n",
    "        return f\"User(name={self.name}, email={self.email}, age={self.age})\"\n",
    "\n",
    "\n",
    "class UserManager:\n",
    "    def __init__(self):\n",
    "        \"\"\" Конструктор класса UserManager. \"\"\"\n",
    "        self.users = []\n",
    "\n",
    "    def add_user(self, user):\n",
    "        \"\"\" Добавляет нового пользователя в список. :param user: Экземпляр класса User. :raises ValueError: Если пользователь с таким email уже существует. \"\"\"\n",
    "        for existing_user in self.users:\n",
    "            if existing_user.email == user.email:\n",
    "                raise ValueError(f\"Пользователь с email '{user.email}' уже существует.\")\n",
    "        self.users.append(user)\n",
    "\n",
    "    def remove_user_by_email(self, email):\n",
    "        \"\"\" Удаляет пользователя по email. :param email: Email пользователя. :return: True, если пользователь был найден и удалён, иначе False. \"\"\"\n",
    "        for index, user in enumerate(self.users):\n",
    "            if user.email == email:\n",
    "                del self.users[index]\n",
    "                return True\n",
    "        return False\n",
    "\n",
    "    def find_user_by_email(self, email):\n",
    "        \"\"\" Находит пользователя по email. :param email: Email пользователя. :return: Пользователь, если найден, иначе None. \"\"\"\n",
    "        for user in self.users:\n",
    "            if user.email == email:\n",
    "                return user\n",
    "        return None\n",
    "\n",
    "\n",
    "manager = UserManager()\n",
    "user1 = User('Иван Иванов', 'ivan@example.com', 25)\n",
    "manager.add_user(user1)\n",
    "print(manager.find_user_by_email('ivan@example.com'))  # Выведет: User(name=Иван Иванов, email=ivan@example.com, age=25)"
   ]
  },
  {
   "cell_type": "code",
   "execution_count": 80,
   "metadata": {},
   "outputs": [],
   "source": [
    "class User:\n",
    "    def __init__(self, name, email, age):\n",
    "        \"\"\" Конструктор класса User. :param name: Имя пользователя. :param email: Email пользователя. :param age: Возраст пользователя. \"\"\"\n",
    "        self.name = name\n",
    "        self.email = email\n",
    "        self.age = age\n",
    "\n",
    "    def __repr__(self):\n",
    "        return f\"User(name={self.name}, email={self.email}, age={self.age})\"\n",
    "\n",
    "\n",
    "class UserManager:\n",
    "    def __init__(self):\n",
    "        \"\"\" Конструктор класса UserManager. \"\"\"\n",
    "        self.users = []  # Список пользователей\n",
    "\n",
    "    def add_user(self, user):\n",
    "        \"\"\" Добавляет нового пользователя в список. :param user: Экземпляр класса User. :raises ValueError: Если пользователь с таким email уже существует. \"\"\"\n",
    "        for existing_user in self.users:\n",
    "            if existing_user.email == user.email:\n",
    "                raise ValueError(f\"Пользователь с email '{user.email}' уже существует.\")\n",
    "        self.users.append(user)\n",
    "\n",
    "    def remove_user_by_email(self, email):\n",
    "        \"\"\" Удаляет пользователя по email. :param email: Email пользователя. :return: True, если пользователь был найден и удалён, иначе False. \"\"\"\n",
    "        for index, user in enumerate(self.users):\n",
    "            if user.email == email:\n",
    "                del self.users[index]\n",
    "                return True\n",
    "        return False\n",
    "\n",
    "    def find_user_by_email(self, email):\n",
    "        \"\"\" Находит пользователя по email. :param email: Email пользователя. :return: Пользователь, если найден, иначе None. \"\"\"\n",
    "        for user in self.users:\n",
    "            if user.email == email:\n",
    "                return user\n",
    "        return None"
   ]
  },
  {
   "cell_type": "code",
   "execution_count": 81,
   "metadata": {},
   "outputs": [
    {
     "name": "stderr",
     "output_type": "stream",
     "text": [
      "E\n",
      "======================================================================\n",
      "ERROR: test_user_manager (unittest.loader._FailedTest.test_user_manager)\n",
      "----------------------------------------------------------------------\n",
      "ImportError: Failed to import test module: test_user_manager\n",
      "Traceback (most recent call last):\n",
      "  File \"C:\\Program Files\\WindowsApps\\PythonSoftwareFoundation.Python.3.11_3.11.2544.0_x64__qbz5n2kfra8p0\\Lib\\unittest\\loader.py\", line 162, in loadTestsFromName\n",
      "    module = __import__(module_name)\n",
      "             ^^^^^^^^^^^^^^^^^^^^^^^\n",
      "ModuleNotFoundError: No module named 'test_user_manager'\n",
      "\n",
      "\n",
      "----------------------------------------------------------------------\n",
      "Ran 1 test in 0.000s\n",
      "\n",
      "FAILED (errors=1)\n"
     ]
    }
   ],
   "source": [
    "!python -m unittest test_user_manager.py"
   ]
  },
  {
   "cell_type": "markdown",
   "metadata": {},
   "source": [
    "Задание 2. Разработка и тестирование калькулятора статистики\n",
    " Описание: Напишите класс StatisticsCalculator, который умеет вычислять\n",
    "среднее арифметическое, медиану и дисперсию для списка чисел.\n",
    " Что нужно сделать:\n",
    "• Реализовать методы mean(), median(), variance().\n",
    "• Написать тесты для проверки:\n",
    "o Корректности расчетов для разных входных данных.\n",
    "o Обработки пустого списка и исключений.\n",
    "o Работы с большими числами и дробными значениями.\n"
   ]
  },
  {
   "cell_type": "code",
   "execution_count": 82,
   "metadata": {},
   "outputs": [],
   "source": [
    "import math\n",
    "\n",
    "class StatisticsCalculator:\n",
    "    def __init__(self, data):\n",
    "        self.data = sorted(data)\n",
    "    \n",
    "    def mean(self):\n",
    "        \"\"\"Вычисление среднего арифметического\"\"\"\n",
    "        return sum(self.data) / len(self.data)\n",
    "    \n",
    "    def median(self):\n",
    "        \"\"\"Вычисление медианы\"\"\"\n",
    "        n = len(self.data)\n",
    "        if n % 2 == 1:\n",
    "            # Если количество элементов нечётное, возвращаем средний элемент\n",
    "            return self.data[n // 2]\n",
    "        else:\n",
    "            # Если количество элементов чётное, возвращаем среднее двух средних элементов\n",
    "            return (self.data[(n // 2) - 1] + self.data[n // 2]) / 2\n",
    "    \n",
    "    def variance(self):\n",
    "        \"\"\"Вычисление дисперсии\"\"\"\n",
    "        mean_value = self.mean()\n",
    "        return sum((x - mean_value) ** 2 for x in self.data) / len(self.data)"
   ]
  },
  {
   "cell_type": "code",
   "execution_count": 83,
   "metadata": {},
   "outputs": [
    {
     "name": "stdout",
     "output_type": "stream",
     "text": [
      "Среднее: 8.6\n",
      "Медиана: 9\n",
      "Дисперсия: 5.84\n"
     ]
    }
   ],
   "source": [
    "# Создаём объект класса с набором данных\n",
    "calculator = StatisticsCalculator([5, 7, 9, 10, 12])\n",
    "\n",
    "# Вычисляем среднее арифметическое\n",
    "print(\"Среднее:\", calculator.mean())\n",
    "\n",
    "# Вычисляем медиану\n",
    "print(\"Медиана:\", calculator.median())\n",
    "\n",
    "# Вычисляем дисперсию\n",
    "print(\"Дисперсия:\", calculator.variance())"
   ]
  },
  {
   "cell_type": "code",
   "execution_count": 73,
   "metadata": {},
   "outputs": [],
   "source": [
    "import math\n",
    "\n",
    "class StatisticsCalculator:\n",
    "    def __init__(self, data):\n",
    "        if not isinstance(data, list):\n",
    "            raise TypeError(\"Данные должны быть представлены в виде списка.\")\n",
    "        \n",
    "        if len(data) == 0:\n",
    "            raise ValueError(\"Список не должен быть пустым.\")\n",
    "            \n",
    "        self.data = sorted(data)\n",
    "    \n",
    "    def mean(self):\n",
    "        \"\"\"Вычисление среднего арифметического\"\"\"\n",
    "        return sum(self.data) / len(self.data)\n",
    "    \n",
    "    def median(self):\n",
    "        \"\"\"Вычисление медианы\"\"\"\n",
    "        n = len(self.data)\n",
    "        if n % 2 == 1:\n",
    "            # Если количество элементов нечётное, возвращаем средний элемент\n",
    "            return self.data[n // 2]\n",
    "        else:\n",
    "            # Если количество элементов чётное, возвращаем среднее двух средних элементов\n",
    "            return (self.data[(n // 2) - 1] + self.data[n // 2]) / 2\n",
    "    \n",
    "    def variance(self):\n",
    "        \"\"\"Вычисление дисперсии\"\"\"\n",
    "        mean_value = self.mean()\n",
    "        return sum((x - mean_value) ** 2 for x in self.data) / len(self.data)"
   ]
  },
  {
   "cell_type": "code",
   "execution_count": 84,
   "metadata": {},
   "outputs": [
    {
     "name": "stderr",
     "output_type": "stream",
     "text": [
      "python: can't open file 'c:\\\\Users\\\\Jemi\\\\Documents\\\\Dz- (03.03.2025)\\\\tests.py': [Errno 2] No such file or directory\n"
     ]
    }
   ],
   "source": [
    "!python tests.py"
   ]
  },
  {
   "cell_type": "markdown",
   "metadata": {},
   "source": [
    "Задание 3. Разработка и тестирование файлового менеджера\n",
    " Описание: Реализуйте класс FileManager, который выполняет базовые операции с\n",
    "файлами: чтение, запись и удаление.\n",
    " Что нужно сделать:\n",
    "• Реализовать методы write_file(), read_file(), delete_file().\n",
    "• Написать тесты для проверки:\n",
    "o Корректности чтения и записи данных.\n",
    "o Обработки несуществующих файлов.\n",
    "o Работы с разными типами данных (текст, JSON, CSV)."
   ]
  },
  {
   "cell_type": "code",
   "execution_count": 85,
   "metadata": {},
   "outputs": [],
   "source": [
    "import os\n",
    "\n",
    "class FileManager:\n",
    "    def __init__(self, filename):\n",
    "        \"\"\" Инициализация объекта с указанием имени файла. :param filename: Имя файла для операций. \"\"\"\n",
    "        self.filename = filename\n",
    "\n",
    "    def read_file(self):\n",
    "        \"\"\" Чтение содержимого файла. :return: Содержимое файла в виде строки. \"\"\"\n",
    "        try:\n",
    "            with open(self.filename, 'r') as file:\n",
    "                content = file.read()\n",
    "            return content\n",
    "        except FileNotFoundError:\n",
    "            print(f\"Файл {self.filename} не найден!\")\n",
    "            return \"\"\n",
    "\n",
    "    def write_to_file(self, text):\n",
    "        \"\"\" Запись текста в файл. :param text: Текст для записи в файл. \"\"\"\n",
    "        with open(self.filename, 'w') as file:\n",
    "            file.write(text)\n",
    "\n",
    "    def delete_file(self):\n",
    "        \"\"\" Удаление файла. \"\"\"\n",
    "        try:\n",
    "            os.remove(self.filename)\n",
    "            print(f\"Файл {self.filename} удалён.\")\n",
    "        except FileNotFoundError:\n",
    "            print(f\"Файл {self.filename} не существует.\")"
   ]
  },
  {
   "cell_type": "code",
   "execution_count": 86,
   "metadata": {},
   "outputs": [
    {
     "name": "stdout",
     "output_type": "stream",
     "text": [
      "Файл example.txt не найден!\n",
      "\n",
      "Файл example.txt удалён.\n"
     ]
    }
   ],
   "source": [
    "fm = FileManager('example.txt')\n",
    "\n",
    "# Чтение файла\n",
    "content = fm.read_file()\n",
    "print(content)\n",
    "\n",
    "# Запись в файл\n",
    "fm.write_to_file(\"Привет, мир!\")\n",
    "\n",
    "# Удаление файла\n",
    "fm.delete_file()"
   ]
  },
  {
   "cell_type": "code",
   "execution_count": null,
   "metadata": {},
   "outputs": [],
   "source": [
    "import unittest\n",
    "from file_manager import FileManager\n",
    "\n",
    "class TestFileManager(unittest.TestCase):\n",
    "    def setUp(self):\n",
    "        self.file_name = 'test_file.txt'\n",
    "        self.manager = FileManager(self.file_name)\n",
    "\n",
    "    def tearDown(self):\n",
    "        try:\n",
    "            os.remove(self.file_name)\n",
    "        except OSError:\n",
    "            pass\n",
    "\n",
    "    def test_read_empty_file(self):\n",
    "        self.assertEqual(self.manager.read_file(), \"\")\n",
    "\n",
    "    def test_write_and_read_file(self):\n",
    "        expected_content = \"Hello, world!\"\n",
    "        self.manager.write_to_file(expected_content)\n",
    "        actual_content = self.manager.read_file()\n",
    "        self.assertEqual(actual_content, expected_content)\n",
    "\n",
    "    def test_delete_file(self):\n",
    "        self.manager.write_to_file(\"Some text\")\n",
    "        self.manager.delete_file()\n",
    "        self.assertFalse(os.path.exists(self.file_name))\n",
    "\n",
    "if __name__ == \"__main__\":\n",
    "    unittest.main()"
   ]
  },
  {
   "cell_type": "code",
   "execution_count": null,
   "metadata": {},
   "outputs": [],
   "source": [
    "python tests.py"
   ]
  }
 ],
 "metadata": {
  "kernelspec": {
   "display_name": "Python 3",
   "language": "python",
   "name": "python3"
  },
  "language_info": {
   "codemirror_mode": {
    "name": "ipython",
    "version": 3
   },
   "file_extension": ".py",
   "mimetype": "text/x-python",
   "name": "python",
   "nbconvert_exporter": "python",
   "pygments_lexer": "ipython3",
   "version": "3.11.9"
  }
 },
 "nbformat": 4,
 "nbformat_minor": 2
}
