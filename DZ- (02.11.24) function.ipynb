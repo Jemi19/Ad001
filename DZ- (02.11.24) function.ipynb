{
 "cells": [
  {
   "cell_type": "markdown",
   "metadata": {},
   "source": [
    "1.Напишите функцию, вычисляющую произведение\n",
    "элементов списка целых. Список передаётся в качестве параметра. Полученный результат возвращается изфункции."
   ]
  },
  {
   "cell_type": "code",
   "execution_count": 3,
   "metadata": {},
   "outputs": [
    {
     "name": "stdout",
     "output_type": "stream",
     "text": [
      "81\n"
     ]
    }
   ],
   "source": [
    "def f(a):\n",
    "\td = 1\n",
    "\ti = 0\n",
    "\twhile i<len(a):\n",
    "\t\td = int(a[i]) * d\n",
    "\t\ti += 1\n",
    "\treturn d\n",
    "\n",
    "a = list(input())\n",
    "print(f(a))"
   ]
  },
  {
   "cell_type": "markdown",
   "metadata": {},
   "source": [
    "2.Напишите функцию для нахождения минимума в\n",
    "списке целых. Список передаётся в качестве параметра.\n",
    "Полученный результат возвращается из функции."
   ]
  },
  {
   "cell_type": "code",
   "execution_count": 4,
   "metadata": {},
   "outputs": [
    {
     "name": "stdout",
     "output_type": "stream",
     "text": [
      "-2\n"
     ]
    }
   ],
   "source": [
    "list_ = [5, 2, 1, 4, 10, 6, 27, 8, 9, 2, -2]\n",
    " \n",
    "def min_func(list_, m = None):\n",
    "    if not list_ :\n",
    "        return m \n",
    "    elif not m or m > list_[0]:\n",
    "        m = list_[0]\n",
    "    return min_func(list_[1:], m)\n",
    " \n",
    "print(min_func(list_))"
   ]
  },
  {
   "cell_type": "markdown",
   "metadata": {},
   "source": [
    "3.Напишите функцию, определяющую количество простых чисел в списке целых. Список передаётся в качестве\n",
    "параметра.Полученныйрезультат возвращаетсяизфункции."
   ]
  },
  {
   "cell_type": "code",
   "execution_count": 6,
   "metadata": {},
   "outputs": [
    {
     "name": "stdout",
     "output_type": "stream",
     "text": [
      "0\n"
     ]
    }
   ],
   "source": [
    "def num_1(*args):\n",
    "    count = 0\n",
    "    for num in args:\n",
    "        if num < 2:\n",
    "            continue\n",
    "        else:\n",
    "            for i in range(2, num):\n",
    "                if num % i == 0:\n",
    "                    break\n",
    "            else:\n",
    "                count += 1\n",
    "    return count\n",
    "\n",
    "\n",
    "print(num_1(10))"
   ]
  },
  {
   "cell_type": "markdown",
   "metadata": {},
   "source": [
    "4.Напишите функцию, удаляющую из списка целых\n",
    "некоторое заданное число. Из функции нужно вернуть\n",
    "количество удаленных элементов."
   ]
  },
  {
   "cell_type": "code",
   "execution_count": 7,
   "metadata": {},
   "outputs": [
    {
     "name": "stdout",
     "output_type": "stream",
     "text": [
      "[11, 15, 17]\n"
     ]
    }
   ],
   "source": [
    "def delete_starting_evens(lst):\n",
    "    res =  []\n",
    "    for i in lst:\n",
    "        if i % 2 != 0:\n",
    "            res.append(i)\n",
    "    return res\n",
    " \n",
    "print(delete_starting_evens([4, 4, 10, 11, 12, 15, 17, 8]))\n"
   ]
  },
  {
   "cell_type": "markdown",
   "metadata": {},
   "source": [
    "5.Напишите функцию, которая получает два списка в\n",
    "качестве параметра и возвращает список, содержащий\n",
    "элементы обоих списков."
   ]
  },
  {
   "cell_type": "code",
   "execution_count": 8,
   "metadata": {},
   "outputs": [
    {
     "name": "stdout",
     "output_type": "stream",
     "text": [
      "[1, 2, 3, 4, 5, 6]\n"
     ]
    }
   ],
   "source": [
    "def merge_lists(list1, list2):\n",
    "    merged_list = list1 + list2\n",
    "    return merged_list\n",
    "\n",
    "list1 = [1, 2, 3]\n",
    "list2 = [4, 5, 6]\n",
    "result = merge_lists(list1, list2)\n",
    "print(result)  # [1, 2, 3, 4, 5, 6]"
   ]
  },
  {
   "attachments": {},
   "cell_type": "markdown",
   "metadata": {},
   "source": [
    "6.Напишите функцию, высчитывающуюстепень каждого\n",
    "элемента списка целых. Значение для степени передаётся\n",
    "в качестве параметра, список тоже передаётся в качестве\n",
    "параметра. Функция возвращает новый список, содержащий полученные результаты."
   ]
  },
  {
   "cell_type": "code",
   "execution_count": 9,
   "metadata": {},
   "outputs": [
    {
     "name": "stdout",
     "output_type": "stream",
     "text": [
      "[1, 4, 9, 16, 25]\n"
     ]
    }
   ],
   "source": [
    "def exponentiate_list(lst, power):\n",
    "    return [x ** power for x in lst]\n",
    "\n",
    "my_list = [1, 2, 3, 4, 5]\n",
    "exponentiated_list = exponentiate_list(my_list, 2)\n",
    "print(exponentiated_list)  # [1, 4, 9, 16, 25]"
   ]
  }
 ],
 "metadata": {
  "kernelspec": {
   "display_name": "Test001",
   "language": "python",
   "name": "python3"
  },
  "language_info": {
   "codemirror_mode": {
    "name": "ipython",
    "version": 3
   },
   "file_extension": ".py",
   "mimetype": "text/x-python",
   "name": "python",
   "nbconvert_exporter": "python",
   "pygments_lexer": "ipython3",
   "version": "3.12.6"
  },
  "vscode": {
   "interpreter": {
    "hash": "6aab11d748192142d12407ff1a9f8db39134eb6760e357ccb059f3040b063636"
   }
  }
 },
 "nbformat": 4,
 "nbformat_minor": 2
}
