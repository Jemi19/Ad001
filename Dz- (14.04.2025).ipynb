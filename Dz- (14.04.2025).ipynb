{
 "cells": [
  {
   "cell_type": "markdown",
   "metadata": {},
   "source": [
    "# 14/04/2025"
   ]
  },
  {
   "cell_type": "markdown",
   "metadata": {},
   "source": [
    "Два списка целых заполняются случайными числами.\n",
    "Необходимо:\n",
    "■ Сформировать третий список, содержащий элементы\n",
    "обоих списков;"
   ]
  },
  {
   "cell_type": "code",
   "execution_count": 3,
   "metadata": {},
   "outputs": [
    {
     "name": "stdout",
     "output_type": "stream",
     "text": [
      "Первый список: [48, 23, 70, 24, 92, 15, 64, 7, 31, 78]\n",
      "Второй список: [87, 55, 39, 79, 6, 19, 24, 59, 89, 29]\n",
      "Общие элементы: {24}\n"
     ]
    }
   ],
   "source": [
    "import random\n",
    "\n",
    "# Создаем первый список\n",
    "list1 = [random.randint(1, 100) for _ in range(10)]\n",
    "\n",
    "# Создаем второй список\n",
    "list2 = [random.randint(1, 100) for _ in range(10)]\n",
    "\n",
    "print(\"Первый список:\", list1)\n",
    "print(\"Второй список:\", list2)\n",
    "\n",
    "# Ищем общие элементы двух списков\n",
    "common_elements = set(list1).intersection(set(list2))\n",
    "if common_elements:\n",
    "    print(\"Общие элементы:\", common_elements)\n",
    "else:\n",
    "    print(\"Нет общих элементов.\")"
   ]
  },
  {
   "cell_type": "markdown",
   "metadata": {},
   "source": [
    "Два списка целых заполняются случайными числами.\n",
    "Необходимо:\n",
    "■ Сформировать третий список, содержащий элементы\n",
    "обоих списков без повторений;"
   ]
  },
  {
   "cell_type": "code",
   "execution_count": 10,
   "metadata": {},
   "outputs": [
    {
     "name": "stdout",
     "output_type": "stream",
     "text": [
      "Список №1: [21, 10, 6, 16, 13, 11, 39, 32, 30, 10]\n",
      "Список №2: [24, 21, 48, 9, 2, 25, 2, 8, 29, 41]\n",
      "Итоговый список без повторений: [32, 2, 6, 39, 8, 9, 10, 11, 41, 13, 16, 48, 21, 24, 25, 29, 30]\n"
     ]
    }
   ],
   "source": [
    "import random\n",
    "\n",
    "# Генерируем два списка случайных чисел\n",
    "list1 = [random.randint(1, 50) for _ in range(10)]  # 10 случайных чисел от 1 до 50\n",
    "list2 = [random.randint(1, 50) for _ in range(10)]  # еще 10 случайных чисел от 1 до 50\n",
    "\n",
    "# Преобразуем списки в множества, объединяем их и снова превращаем в список\n",
    "unique_list = list(set(list1 + list2))  \n",
    "\n",
    "# Печать результатов\n",
    "print(\"Список №1:\", list1)\n",
    "print(\"Список №2:\", list2)\n",
    "print(\"Итоговый список без повторений:\", unique_list)"
   ]
  },
  {
   "cell_type": "markdown",
   "metadata": {},
   "source": [
    "Два списка целых заполняются случайными числами.\n",
    "Необходимо:\n",
    "Сформировать третий список, содержащий элементы\n",
    "общие для двух списков;"
   ]
  },
  {
   "cell_type": "code",
   "execution_count": 16,
   "metadata": {},
   "outputs": [
    {
     "name": "stdout",
     "output_type": "stream",
     "text": [
      "Список №1: [45, 37, 18, 15, 35, 40, 43, 9, 13, 36]\n",
      "Список №2: [22, 4, 29, 26, 27, 28, 43, 20, 19, 34]\n",
      "Общие элементы: [43]\n"
     ]
    }
   ],
   "source": [
    "import random\n",
    "\n",
    "# Генерация двух списков случайных чисел\n",
    "list1 = [random.randint(1, 50) for _ in range(10)]\n",
    "list2 = [random.randint(1, 50) for _ in range(10)]\n",
    "\n",
    "# Нахождение общих элементов через пересечение множеств\n",
    "common_elements = list(set(list1) & set(list2))\n",
    "\n",
    "# Результат\n",
    "print(\"Список №1:\", list1)\n",
    "print(\"Список №2:\", list2)\n",
    "print(\"Общие элементы:\", common_elements)"
   ]
  },
  {
   "cell_type": "markdown",
   "metadata": {},
   "source": [
    "Два списка целых заполняются случайными числами.\n",
    "Необходимо:\n",
    "Сформировать третий список, содержащий только\n",
    "уникальные элементы каждого из списков;"
   ]
  },
  {
   "cell_type": "code",
   "execution_count": 18,
   "metadata": {},
   "outputs": [
    {
     "name": "stdout",
     "output_type": "stream",
     "text": [
      "Список №1: [2, 9, 27, 45, 17, 47, 11, 29, 25, 35]\n",
      "Список №2: [46, 9, 27, 12, 23, 13, 29, 25, 18, 21]\n",
      "Третий список (только уникальные элементы): [2, 35, 11, 12, 13, 45, 46, 47, 17, 18, 21, 23]\n"
     ]
    }
   ],
   "source": [
    "import random\n",
    "\n",
    "# Создание двух списков случайных чисел\n",
    "list1 = [random.randint(1, 50) for _ in range(10)]\n",
    "list2 = [random.randint(1, 50) for _ in range(10)]\n",
    "\n",
    "# Формирование третьего списка, содержащего только уникальные элементы\n",
    "unique_elements = list((set(list1) | set(list2)) - (set(list1) & set(list2)))\n",
    "\n",
    "# Вывод результата\n",
    "print(\"Список №1:\", list1)\n",
    "print(\"Список №2:\", list2)\n",
    "print(\"Третий список (только уникальные элементы):\", unique_elements)"
   ]
  },
  {
   "cell_type": "markdown",
   "metadata": {},
   "source": [
    "Два списка целых заполняются случайными числами.\n",
    "Необходимо:\n",
    "Сформировать третий список, содержащий только\n",
    "минимальное и максимальное значение каждого из\n",
    "списков."
   ]
  },
  {
   "cell_type": "code",
   "execution_count": 19,
   "metadata": {},
   "outputs": [
    {
     "name": "stdout",
     "output_type": "stream",
     "text": [
      "Список №1: [20, 31, 33, 25, 50, 11, 38, 1, 25, 28]\n",
      "Минимум и максимум списка №1: 1 50\n",
      "Список №2: [14, 8, 17, 35, 14, 3, 21, 34, 19, 29]\n",
      "Минимум и максимум списка №2: 3 35\n",
      "Третий список: [1, 50, 3, 35]\n"
     ]
    }
   ],
   "source": [
    "import random\n",
    "\n",
    "# Генерация двух списков случайных чисел\n",
    "list1 = [random.randint(1, 50) for _ in range(10)]\n",
    "list2 = [random.randint(1, 50) for _ in range(10)]\n",
    "\n",
    "# Поиск минимальных и максимальных значений\n",
    "min_value_1 = min(list1)\n",
    "max_value_1 = max(list1)\n",
    "min_value_2 = min(list2)\n",
    "max_value_2 = max(list2)\n",
    "\n",
    "# Третий список, содержащий минимум и максимум каждого списка\n",
    "third_list = [min_value_1, max_value_1, min_value_2, max_value_2]\n",
    "\n",
    "# Вывод результатов\n",
    "print(\"Список №1:\", list1)\n",
    "print(\"Минимум и максимум списка №1:\", min_value_1, max_value_1)\n",
    "print(\"Список №2:\", list2)\n",
    "print(\"Минимум и максимум списка №2:\", min_value_2, max_value_2)\n",
    "print(\"Третий список:\", third_list)"
   ]
  }
 ],
 "metadata": {
  "kernelspec": {
   "display_name": "Python 3",
   "language": "python",
   "name": "python3"
  },
  "language_info": {
   "codemirror_mode": {
    "name": "ipython",
    "version": 3
   },
   "file_extension": ".py",
   "mimetype": "text/x-python",
   "name": "python",
   "nbconvert_exporter": "python",
   "pygments_lexer": "ipython3",
   "version": "3.11.9"
  }
 },
 "nbformat": 4,
 "nbformat_minor": 2
}
