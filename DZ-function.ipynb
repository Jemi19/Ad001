{
 "cells": [
  {
   "cell_type": "markdown",
   "metadata": {},
   "source": [
    "Задание 1\n",
    "Напишите функцию, которая отображает на экран\n",
    "форматированный текст, указанный ниже:\n",
    "“Don't compare yourself with anyone in this world…\n",
    "if you do so, you are insulting yourself.”\n",
    "Bill Gates"
   ]
  },
  {
   "cell_type": "code",
   "execution_count": 151,
   "metadata": {},
   "outputs": [
    {
     "name": "stdout",
     "output_type": "stream",
     "text": [
      "“Don't compare yourself with anyone in this world…\n",
      "if you do so, you are insulting yourself.”\n",
      "                                    Bill Gates\n",
      "None\n"
     ]
    }
   ],
   "source": [
    "def bill_gates():\n",
    "    name = 'Bill Gates'\n",
    "    print(\"“Don't compare yourself with anyone in this world…\\n\"\n",
    "          \"if you do so, you are insulting yourself.”\\n\"\n",
    "          f'{name.rjust(46)}')\n",
    "\n",
    "print(bill_gates())"
   ]
  },
  {
   "cell_type": "markdown",
   "metadata": {},
   "source": [
    "Задание 2\n",
    "Напишите функцию, которая принимает два числа\n",
    "в качестве параметра и отображает все четные числа\n",
    "между ними."
   ]
  },
  {
   "cell_type": "code",
   "execution_count": 159,
   "metadata": {},
   "outputs": [
    {
     "name": "stdout",
     "output_type": "stream",
     "text": [
      "2 4 6 8 10 12 14 16 18 20 22\n"
     ]
    }
   ],
   "source": [
    "n1 = int(input(\"Введите первое число: \"))\n",
    "n2 = int(input(\"Введите второе число: \"))\n",
    "print(*[i for i in range(n1, n2 + 1) if i % 2 == 0])"
   ]
  },
  {
   "cell_type": "markdown",
   "metadata": {},
   "source": [
    "Задание 3\n",
    "Напишите функцию, которая отображает пустой или\n",
    "заполненный квадрат из некоторого символа. Функция\n",
    "принимает в качестве параметров: длину стороны квадрата, символ и переменную логического типа:\n",
    " ■ если она равна True, квадрат заполненный;\n",
    " ■ если False, квадрат пустой."
   ]
  },
  {
   "cell_type": "code",
   "execution_count": 153,
   "metadata": {},
   "outputs": [
    {
     "name": "stdout",
     "output_type": "stream",
     "text": [
      "****\n",
      "****\n",
      "****\n",
      "****\n",
      "None\n",
      "****\n",
      "*  *\n",
      "*  *\n",
      "****\n",
      "None\n"
     ]
    }
   ],
   "source": [
    "# Вариант 2\n",
    "\n",
    "def draw_square(side_lenght, symbol, filled):\n",
    "    if side_lenght <= 0:\n",
    "        print(\"Длина стороы квадрата должна быть больше 0!\")\n",
    "        return\n",
    "    if filled:\n",
    "        for i in range(side_lenght):\n",
    "            print(symbol * side_lenght)\n",
    "    else:\n",
    "        for i in range(side_lenght):\n",
    "            if i == 0 or i == side_lenght - 1:\n",
    "                print(symbol * side_lenght)\n",
    "            else:\n",
    "                print(symbol + ' ' * (side_lenght - 2) + symbol)\n",
    "\n",
    "print(draw_square(4, \"*\", True))\n",
    "print(draw_square(4, \"*\", False))"
   ]
  },
  {
   "cell_type": "code",
   "execution_count": 154,
   "metadata": {},
   "outputs": [
    {
     "name": "stdout",
     "output_type": "stream",
     "text": [
      "%\t%\t%\t\n",
      "\n",
      "%\t%\t%\t\n",
      "\n",
      "%\t%\t%\t\n",
      "\n",
      "\n",
      "\n",
      "%\t%\t%\t\n",
      "\n",
      "%\t\t%\t\t\n",
      "\n",
      "%\t%\t%\t"
     ]
    }
   ],
   "source": [
    "# Вариант 1\n",
    "\n",
    "def square(a, symbol, flag):\n",
    "    if flag:\n",
    "        for i in range(a):\n",
    "            for j in range(a):\n",
    "                print(symbol, end='\\t')\n",
    "            print('\\n')\n",
    "    if not flag:\n",
    "        for i in range(a):\n",
    "            print('\\n')\n",
    "            for j in range(a):\n",
    "                if i == 0 or i == a - 1:\n",
    "                    print(symbol, end='\\t')\n",
    "                else:\n",
    "                    if j == 0 or j == a - 1:\n",
    "                        print(symbol, end='')\n",
    "                        for r in range(a - 1):\n",
    "                            print('\\t', end='')\n",
    "                        continue\n",
    " \n",
    "square(3, '%', 1)\n",
    "\n",
    "square(3, '%', 0)"
   ]
  },
  {
   "cell_type": "markdown",
   "metadata": {},
   "source": [
    "Задание 4\n",
    "Напишите функцию, которая возвращает минимальное\n",
    "из пяти чисел. Числа передаются в качестве параметров.\n"
   ]
  },
  {
   "cell_type": "code",
   "execution_count": 155,
   "metadata": {},
   "outputs": [
    {
     "name": "stdout",
     "output_type": "stream",
     "text": [
      "0\n"
     ]
    }
   ],
   "source": [
    "def minimum(a,b,c,d,e):\n",
    "    q=min(a,b,c,d,e)\n",
    "    return q\n",
    "a=int(input(\"a=\"))\n",
    "b=int(input(\"b=\"))\n",
    "c=int(input(\"c=\"))\n",
    "d=int(input(\"d=\"))\n",
    "e=int(input(\"e=\"))\n",
    "print(minimum(a,b,c,d,e))"
   ]
  },
  {
   "cell_type": "markdown",
   "metadata": {},
   "source": [
    "Задание 5\n",
    "Напишите функцию, которая возвращает произведение чисел в указанном диапазоне. Границы диапазона\n",
    "передаются в качестве параметров. Если границы диапазона перепутаны (например, 5 — верхняя граница, 25 —\n",
    "нижняя граница), их нужно поменять местами."
   ]
  },
  {
   "cell_type": "code",
   "execution_count": 156,
   "metadata": {},
   "outputs": [
    {
     "name": "stdout",
     "output_type": "stream",
     "text": [
      "2\n"
     ]
    }
   ],
   "source": [
    "def mul_num(start_num, finish_num):\n",
    "    if start_num == finish_num:\n",
    "        return \"Введены некорректные значения диапозона!\"\n",
    "    if start_num > finish_num:\n",
    "        start_num, finish_num = finish_num, start_num\n",
    "    result = 1\n",
    "    for i in range(start_num, finish_num + 1):\n",
    "        result *= i\n",
    "    return result\n",
    "\n",
    "print(mul_num(int(input(\"Введите начало диапозона: \")), int(input(\"Введите конец дипозона: \"))))"
   ]
  },
  {
   "cell_type": "markdown",
   "metadata": {},
   "source": [
    "Задание 6\n",
    "Напишите функцию, которая считает количество\n",
    "цифр в числе. Число передаётся в качестве параметра. Из\n",
    "функции нужно вернуть полученное количество цифр.\n",
    "Например, если передали 3456, количество цифр будет 4."
   ]
  },
  {
   "cell_type": "code",
   "execution_count": 157,
   "metadata": {},
   "outputs": [
    {
     "name": "stdout",
     "output_type": "stream",
     "text": [
      "Количество цифр равно: 1\n"
     ]
    }
   ],
   "source": [
    "n = int(input(\"Введите число:\"))\n",
    "count = 0\n",
    "while(n > 0):\n",
    "    count = count + 1\n",
    "    n = n // 10\n",
    "print(\"Количество цифр равно:\", count)"
   ]
  },
  {
   "cell_type": "markdown",
   "metadata": {},
   "source": [
    "Задание 7\n",
    "Напишите функцию, которая проверяет является ли\n",
    "число палиндромом. Число передаётся в качестве параметра. Если число палиндром нужно вернуть из функции\n",
    "true, иначе false.\n",
    "«Палиндром» — это число, у которого первая часть\n",
    "цифр равна второй перевернутой части цифр. Например,\n",
    "123321—палиндром(первая часть 123, вторая 321, которая\n",
    "после переворота становится 123), 546645 — палиндром,\n",
    "а 421987 — не палиндром"
   ]
  },
  {
   "cell_type": "code",
   "execution_count": 158,
   "metadata": {},
   "outputs": [
    {
     "name": "stdout",
     "output_type": "stream",
     "text": [
      "Число  5 - полиндром.\n"
     ]
    }
   ],
   "source": [
    "def polindrom(x):\n",
    "    comp = ''.join(reversed(str(x)))\n",
    "    return str(x) == str(comp)\n",
    " \n",
    " \n",
    "num = int(input())\n",
    "if polindrom(num):\n",
    "    print('Число ', num, '- полиндром.')\n",
    "else:\n",
    "    print('Число ', num, '- не полиндром.')"
   ]
  }
 ],
 "metadata": {
  "kernelspec": {
   "display_name": "Python 3",
   "language": "python",
   "name": "python3"
  },
  "language_info": {
   "codemirror_mode": {
    "name": "ipython",
    "version": 3
   },
   "file_extension": ".py",
   "mimetype": "text/x-python",
   "name": "python",
   "nbconvert_exporter": "python",
   "pygments_lexer": "ipython3",
   "version": "3.11.9"
  }
 },
 "nbformat": 4,
 "nbformat_minor": 2
}
