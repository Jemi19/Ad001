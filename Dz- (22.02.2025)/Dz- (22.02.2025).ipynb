{
 "cells": [
  {
   "cell_type": "markdown",
   "metadata": {},
   "source": [
    "# 22/02/2025"
   ]
  },
  {
   "cell_type": "markdown",
   "metadata": {},
   "source": [
    "Модуль 15. Модульное тестирование\n",
    "Тема: Модульное тестирование\n",
    "Задание 1\n",
    "Создайте класс, содержащий набор целых чисел.\n",
    "-\n",
    "ональность:\n",
    "■ Сумма элементов набора.\n",
    "■ Среднеарифметическое элементов набора.\n",
    "■ Максимум из элементов набора.\n",
    "■ Минимум из элементов набора.\n",
    "Протестируйте все возможности созданного класса\n",
    "с помощью модульного тестирования(unittest). "
   ]
  },
  {
   "cell_type": "code",
   "execution_count": 46,
   "metadata": {},
   "outputs": [],
   "source": [
    "class NumberSet:\n",
    "    def __init__(self, numbers):\n",
    "        # Инициализация списка чисел\n",
    "        self.numbers = numbers\n",
    "\n",
    "    def sum(self):\n",
    "        # Метод для вычисления суммы всех элементов набора\n",
    "        return sum(self.numbers)\n",
    "\n",
    "    def average(self):\n",
    "        # Метод для вычисления среднеарифметического значения элементов набора\n",
    "        if len(self.numbers) == 0:\n",
    "            return 0  # Если набор пуст, возвращаем 0\n",
    "        return sum(self.numbers) / len(self.numbers)\n",
    "\n",
    "    def max_value(self):\n",
    "        # Метод для нахождения максимального элемента набора\n",
    "        if not self.numbers:\n",
    "            raise ValueError(\"Набор чисел пустой\")\n",
    "        return max(self.numbers)\n",
    "\n",
    "    def min_value(self):\n",
    "        # Метод для нахождения минимального элемента набора\n",
    "        if not self.numbers:\n",
    "            raise ValueError(\"Набор чисел пустой\")\n",
    "        return min(self.numbers)"
   ]
  },
  {
   "cell_type": "code",
   "execution_count": 47,
   "metadata": {},
   "outputs": [
    {
     "name": "stdout",
     "output_type": "stream",
     "text": [
      "Сумма элементов: 100\n",
      "Среднеарифметическое значение: 25.00\n",
      "Максимальное значение: 40\n",
      "Минимальное значение: 10\n"
     ]
    }
   ],
   "source": [
    "# Создаем экземпляр класса с набором чисел\n",
    "numbers_set = NumberSet([10, 20, 30, 40])\n",
    "\n",
    "# Тестирование методов\n",
    "print(f\"Сумма элементов: {numbers_set.sum()}\")\n",
    "print(f\"Среднеарифметическое значение: {numbers_set.average():.2f}\")\n",
    "print(f\"Максимальное значение: {numbers_set.max_value()}\")\n",
    "print(f\"Минимальное значение: {numbers_set.min_value()}\")"
   ]
  },
  {
   "cell_type": "code",
   "execution_count": 48,
   "metadata": {},
   "outputs": [
    {
     "name": "stderr",
     "output_type": "stream",
     "text": [
      "\n",
      "----------------------------------------------------------------------\n",
      "Ran 0 tests in 0.000s\n",
      "\n",
      "OK\n"
     ]
    }
   ],
   "source": [
    "!python -m unittest discover"
   ]
  },
  {
   "cell_type": "markdown",
   "metadata": {},
   "source": [
    "Задание 2\n",
    "Создайте класс для числа. В классе должна быть реализована следующая функциональность:\n",
    "■ Запись и чтение значения.\n",
    "■ Перевод числа в восьмеричную систему исчисления.\n",
    "■ Перевод числа в шестнадцатеричную систему исчисления.\n",
    "■ Перевод числа в двоичную систему исчисления.\n",
    "Протестируйте все возможности созданного класса"
   ]
  },
  {
   "cell_type": "code",
   "execution_count": 49,
   "metadata": {},
   "outputs": [
    {
     "name": "stdout",
     "output_type": "stream",
     "text": [
      "Значение числа: 255\n",
      "Восьмеричное представление: 377\n",
      "Шестнадцатеричное представление: FF\n",
      "Двоичное представление: 11111111\n"
     ]
    }
   ],
   "source": [
    "class Number:\n",
    "    def __init__(self, value):\n",
    "        # Инициализация значения числа\n",
    "        self.value = value\n",
    "\n",
    "    def get_value(self):\n",
    "        # Метод для чтения значения числа\n",
    "        return self.value\n",
    "\n",
    "    def octal(self):\n",
    "        # Метод для перевода числа в восьмеричную систему счисления\n",
    "        return oct(self.value)[2:]  # Возвращаем строку без префикса '0o'\n",
    "\n",
    "    def hexadecimal(self):\n",
    "        # Метод для перевода числа в шестнадцатеричную систему счисления\n",
    "        return hex(self.value)[2:].upper()  # Возвращаем строку без префикса '0x' и переводим в верхний регистр\n",
    "\n",
    "    def binary(self):\n",
    "        # Метод для перевода числа в двоичную систему счисления\n",
    "        return bin(self.value)[2:]  # Возвращаем строку без префикса '0b'\n",
    "\n",
    "# Тестирование класса\n",
    "number = Number(255)\n",
    "\n",
    "print(f\"Значение числа: {number.get_value()}\")\n",
    "print(f\"Восьмеричное представление: {number.octal()}\")\n",
    "print(f\"Шестнадцатеричное представление: {number.hexadecimal()}\")\n",
    "print(f\"Двоичное представление: {number.binary()}\")"
   ]
  }
 ],
 "metadata": {
  "kernelspec": {
   "display_name": "Python 3",
   "language": "python",
   "name": "python3"
  },
  "language_info": {
   "codemirror_mode": {
    "name": "ipython",
    "version": 3
   },
   "file_extension": ".py",
   "mimetype": "text/x-python",
   "name": "python",
   "nbconvert_exporter": "python",
   "pygments_lexer": "ipython3",
   "version": "3.11.9"
  }
 },
 "nbformat": 4,
 "nbformat_minor": 2
}
