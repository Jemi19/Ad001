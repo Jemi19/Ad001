{
 "cells": [
  {
   "cell_type": "markdown",
   "metadata": {},
   "source": [
    "Задание 1\n",
    "Два списка целых заполняются случайными числами.\n",
    "Необходимо:"
   ]
  },
  {
   "cell_type": "code",
   "execution_count": null,
   "metadata": {},
   "outputs": [],
   "source": [
    "# Создаем пустой список list4\n",
    "list4 = []\n",
    "\n",
    "# Проходим по всем элементам из list1 и list2\n",
    "for element in list1 + list2:\n",
    "    \n",
    "    # Если элемент еще не добавлен в list4, то добавляем его\n",
    "    if element not in list4:\n",
    "        list4.append(element)\n",
    "\n",
    "# Печатаем результат\n",
    "print(\"Список 4 (все элементы без повторений):\", list4)\n",
    "\n",
    "# Создаем пустой список list5\n",
    "list5 = []\n",
    "\n",
    "# Проходим по всем элементам из list1\n",
    "for element in list1:\n",
    "    # Если элемент также есть в list2, то добавляем его в list5\n",
    "    if element in list2:\n",
    "        list5.append(element)\n",
    "\n",
    "# Печатаем результат\n",
    "print(\"Список 5 (общие элементы):\", list5)\n",
    "\n",
    "# Создаем пустой список list6\n",
    "list6 = []\n",
    "\n",
    "# Проходим по всем элементам из list1\n",
    "for element in list1:\n",
    "    # Если элемент не есть в list2, то добавляем его в list6\n",
    "    if element not in list2:\n",
    "        list6.append(element)\n",
    "\n",
    "# Проходим по всем элементам из list2\n",
    "for element in list2:\n",
    "    # Если элемент не есть в list1, то добавляем его в list6\n",
    "    if element not in list1:\n",
    "        list6.append(element)\n",
    "\n",
    "# Печатаем результат\n",
    "print(\"Список 6 (уникальные элементы):\", list6)"
   ]
  }
 ],
 "metadata": {
  "language_info": {
   "name": "python"
  }
 },
 "nbformat": 4,
 "nbformat_minor": 2
}
