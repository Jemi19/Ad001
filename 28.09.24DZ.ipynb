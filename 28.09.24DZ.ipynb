{
 "cells": [
  {
   "attachments": {},
   "cell_type": "markdown",
   "metadata": {},
   "source": [
    "Задание 1\n",
    "Пользователь вводит с клавиатуры три числа. В за\u0002висимости от выбора пользователя программа выводит \n",
    "на экран сумму трёх чисел или произведение трёх чисел."
   ]
  },
  {
   "cell_type": "code",
   "execution_count": 10,
   "metadata": {},
   "outputs": [
    {
     "name": "stdout",
     "output_type": "stream",
     "text": [
      "Числа трёх: 12.0\n"
     ]
    }
   ],
   "source": [
    "num_1 = float(input('Введите превое число: '))\n",
    "num_2 = float(input('Введите второе число: '))\n",
    "num_3 = float(input('Введите второе число: '))\n",
    "\n",
    "Dimooon = input(\"А тебе не расчитать ссуму или произвидение? (sum/product): \")\n",
    "\n",
    "if Dimooon == \"sum\":\n",
    "    result = num_1 + num_2 + num_3\n",
    "    print('Числа трёх:', result)\n",
    "elif Dimooon == \"product\":\n",
    "    result = num_1 * num_2 * num_3\n",
    "    print('Произвидение трех чисел:', result)\n",
    "else:\n",
    "    print('Неверный выбор. Пожалуйста, ведите; \"sum\", \"product\".')\n",
    "   "
   ]
  },
  {
   "attachments": {},
   "cell_type": "markdown",
   "metadata": {},
   "source": [
    "Задание 2\n",
    "Пользователь вводит с клавиатуры три числа. В за\u0002висимости от выбора пользователя программа выводит \n",
    "на экран максимум из трёх, минимум из трёх или сред\u0002неарифметическое трёх чисел."
   ]
  },
  {
   "cell_type": "code",
   "execution_count": 5,
   "metadata": {},
   "outputs": [
    {
     "name": "stdout",
     "output_type": "stream",
     "text": [
      "Среднее арифметическое из трех чисел: 6667.333333333333\n"
     ]
    }
   ],
   "source": [
    "num1 = float(input(\"Введите первое число: \"))\n",
    "num2 = float(input(\"Введите второе число: \"))\n",
    "num3 = float(input(\"Введите третье число: \"))\n",
    "\n",
    "choice = input(\"Хотите рассчитать максимум, минимум или среднее арифметическое? (+/-/*): \")\n",
    "\n",
    "if choice == \"+\":\n",
    "    result = max(num1, num2, num3)\n",
    "    print(\"Максимум:\", result)\n",
    "elif choice == \"-\":\n",
    "    result = min(num1, num2, num3)\n",
    "    print(\"Минимум:\", result)\n",
    "elif choice == \"*\":\n",
    "    result = (num1 + num2 + num3) / 3\n",
    "    print(\"Среднее арифметическое из трех чисел:\", result)\n",
    "else:\n",
    "    print(\"Неверный выбор. Пожалуйста, введите '+', '-' или '*'.\")"
   ]
  },
  {
   "attachments": {},
   "cell_type": "markdown",
   "metadata": {},
   "source": [
    "Задание 3\n",
    "Пользователь вводит с клавиатуры количество ме\u0002тров. В зависимости от выбора пользователя программа \n",
    "переводит метры в мили, дюймы или ярды"
   ]
  },
  {
   "cell_type": "code",
   "execution_count": 12,
   "metadata": {},
   "outputs": [
    {
     "name": "stdout",
     "output_type": "stream",
     "text": [
      "Количество миль: 0.005589\n"
     ]
    }
   ],
   "source": [
    "meters = float(input(\"ВВедите свои метры\"))\n",
    "\n",
    "Dimooon = input(\"А ты хочешь перевести свои МЕТРЫ в; мили, дюймы, ярды ? (miles/inches/yards): \")\n",
    "\n",
    "if Dimooon == \"miles\":\n",
    "    result = meters * 0.000621\n",
    "    print(\"Количество миль:\", result)\n",
    "elif Dimooon == \"inches\":\n",
    "    result = meters * 39.37\n",
    "    print(\"Количество дюймов\", result)\n",
    "elif Dimooon == \"yards\":\n",
    "    result = meters * 1.09\n",
    "    print(\"Количество ярдов\", result)\n",
    "else:\n",
    "    print(\"Неверный выбор. Пожалуйста, введите; 'miles', 'inches', 'yards'.\")"
   ]
  }
 ],
 "metadata": {
  "kernelspec": {
   "display_name": "Python 3",
   "language": "python",
   "name": "python3"
  },
  "language_info": {
   "codemirror_mode": {
    "name": "ipython",
    "version": 3
   },
   "file_extension": ".py",
   "mimetype": "text/x-python",
   "name": "python",
   "nbconvert_exporter": "python",
   "pygments_lexer": "ipython3",
   "version": "3.12.6"
  },
  "orig_nbformat": 4,
  "vscode": {
   "interpreter": {
    "hash": "85d1b76ef1652c4b6aec9325268f9d6808e090202523f56ed242f60e6238b907"
   }
  }
 },
 "nbformat": 4,
 "nbformat_minor": 2
}
