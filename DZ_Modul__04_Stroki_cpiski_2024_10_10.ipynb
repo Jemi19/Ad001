{
 "cells": [
  {
   "cell_type": "markdown",
   "metadata": {},
   "source": [
    "Задание 1\n",
    "Пользователь вводит с клавиатуры строку. Проверьте\n",
    "является ли введенная строка палиндромом. Палиндром — слово или текст, которое читается одинаково\n",
    "слева направо и справа налево. Например, кок; А роза\n",
    "упала на лапу Азора; доход; А буду я у дуба."
   ]
  },
  {
   "cell_type": "code",
   "execution_count": null,
   "metadata": {},
   "outputs": [],
   "source": [
    "n = int(input(\"input n: \"))\n",
    "s = str(n) \n",
    "l = len(s)\n",
    "for i in range(l//2):\n",
    "    if s[i] != s[-1-i]: \n",
    "       print(\"НЕ является palindrome\")\n",
    "       break\n",
    "else:\n",
    "    print(\"Является palindrome\")"
   ]
  },
  {
   "cell_type": "markdown",
   "metadata": {},
   "source": [
    "Задание 2\n",
    "Пользователь вводит с клавиатуры некоторый текст,\n",
    "после чего пользователь вводит список зарезервированных\n",
    "слов. Необходимо найти в тексте все зарезервированные\n",
    "слова и изменить их регистр на верхний. Вывести на\n",
    "экран измененный текст. \n"
   ]
  },
  {
   "cell_type": "code",
   "execution_count": null,
   "metadata": {},
   "outputs": [],
   "source": [
    "phrase = input(\"Введите текст: \").lower().split()\n",
    "words = input(\"Введите нужные слова: \").lower().split()\n",
    "for i, w in enumerate(phrase):\n",
    "    if w in words:\n",
    "        phrase[i] = w.upper()\n",
    "print(\" \".join(phrase))"
   ]
  },
  {
   "cell_type": "markdown",
   "metadata": {},
   "source": [
    "Задание 3\n",
    "Есть некоторый текст. Посчитайте в этом тексте количество предложений и выведите на экран полученный\n",
    "результат."
   ]
  },
  {
   "cell_type": "code",
   "execution_count": null,
   "metadata": {},
   "outputs": [],
   "source": [
    "from re import split\n",
    "print(sum(any(map(str.isalpha, s)) for s in split(r'[.!?]+', input())))"
   ]
  }
 ],
 "metadata": {
  "language_info": {
   "name": "python"
  }
 },
 "nbformat": 4,
 "nbformat_minor": 2
}
