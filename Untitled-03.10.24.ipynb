{
 "cells": [
  {
   "cell_type": "markdown",
   "metadata": {},
   "source": [
    "Задание 1\n",
    "Показать на экран все простые числа в диапазоне,\n",
    "указанном пользователем. Число называется простым,\n",
    "если оно делится без остатка только на себя и на единицу.\n",
    "Например, три — это простое число, а четыре нет"
   ]
  },
  {
   "cell_type": "code",
   "execution_count": null,
   "metadata": {},
   "outputs": [],
   "source": [
    "def f(numm): \n",
    "    for x in range(2, numm + 1): \n",
    "        if x != numm: \n",
    "            if numm % x == 0: \n",
    "                break \n",
    "        else: \n",
    "            print(numm) \n",
    "\n",
    "while True: \n",
    "    try: \n",
    "        n1 = int(input()) \n",
    "        n2 = int(input()) \n",
    "        for x in range(n1, n2): \n",
    "            f(x) \n",
    "    except ValueError: \n",
    "        print(\"Не правильные входные данные\")"
   ]
  },
  {
   "cell_type": "markdown",
   "metadata": {},
   "source": [
    "Задание 2\n",
    "Показать на экране таблицу умножения для всех чисел\n",
    "от 1 до 10. Например:\n",
    "\n",
    "1 * 1 = 1 1 * 2 = 2 ….. 1 * 10 = 10\n",
    "\n",
    ".........................................................................\n",
    "\n",
    "10 * 1 = 10 10 * 2 = 20 …. 10 * 10 = 100."
   ]
  },
  {
   "cell_type": "code",
   "execution_count": null,
   "metadata": {},
   "outputs": [],
   "source": [
    "for i in range(1, 10):\n",
    " for j in range(1, 10):\n",
    "    print(i * j, end=\"\\t\")\n",
    " print(\"\\n\")"
   ]
  },
  {
   "cell_type": "markdown",
   "metadata": {},
   "source": [
    "Задание 3\n",
    "Показать на экран таблицу умножения в диапазоне,\n",
    "указанном пользователем. Например, если пользователь\n",
    "указал 3 и 5, таблица может выглядеть так\n",
    "\n",
    "3*1 = 3 3*2 = 6 3*3 = 9 ... 3 * 10 = 30\n",
    "\n",
    ".....................................................................................\n",
    "\n",
    "5*1 = 5 5 *2 = 10 5 *3 = 15 ... 5 * 10 = 50"
   ]
  },
  {
   "cell_type": "code",
   "execution_count": null,
   "metadata": {},
   "outputs": [],
   "source": [
    "# Пользователь вводит начальное и конечное значение диапазона \n",
    "start = int(input('Введите начальное значение: ')) \n",
    "end = int(input('Введите конечное значение: ')) \n",
    " \n",
    "# Для каждого числа в диапазоне от start до end (включительно) \n",
    "for i in range(start, end + 1): \n",
    "    # Будем умножать число от 1 до 10 \n",
    "    for j in range(1, 11): \n",
    "        result = i * j \n",
    "        print(f'{i} * {j} = {result}') \n",
    "    print('-----------------------')"
   ]
  }
 ],
 "metadata": {
  "language_info": {
   "name": "python"
  }
 },
 "nbformat": 4,
 "nbformat_minor": 2
}
