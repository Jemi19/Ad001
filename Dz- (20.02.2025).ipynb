{
 "cells": [
  {
   "cell_type": "markdown",
   "metadata": {},
   "source": [
    "# 20/02/2025"
   ]
  },
  {
   "cell_type": "markdown",
   "metadata": {},
   "source": [
    "1. Single Responsibility Principle (SRP)\n",
    "Задание 1\n",
    "Вам дан класс, который выполняет сразу три разных задачи:\n",
    "class Employee:\n",
    " def __init__(self, name, salary):\n",
    " self.name = name\n",
    " self.salary = salary\n",
    " def calculate_salary(self):\n",
    " return self.salary * 0.87 # Удержание налогов\n",
    " def generate_report(self):\n",
    " return f\"Сотрудник: {self.name}, Зарплата после налогов:\n",
    "{self.calculate_salary()}\"\n",
    " def save_to_file(self):\n",
    " with open(\"employee.txt\", \"w\") as file:\n",
    " file.write(self.generate_report())\n",
    "Задача:\n",
    "Разделите класс Employee, чтобы он соответствовал SRP."
   ]
  },
  {
   "cell_type": "code",
   "execution_count": 1,
   "metadata": {},
   "outputs": [],
   "source": [
    "# Класс Employee, отвечающий за хранение данных сотрудника\n",
    "class Employee:\n",
    "    def __init__(self, name, salary):\n",
    "        self.name = name\n",
    "        self.salary = salary\n",
    "\n",
    "# Класс SalaryCalculator, отвечающий за расчет зарплаты\n",
    "class SalaryCalculator:\n",
    "    @staticmethod\n",
    "    def calculate_taxed_salary(salary):\n",
    "        return salary * 0.87  # Удержание налогов\n",
    "\n",
    "# Класс ReportGenerator, отвечающий за генерацию отчета\n",
    "class ReportGenerator:\n",
    "    def generate_employee_report(self, employee):\n",
    "        taxed_salary = SalaryCalculator.calculate_taxed_salary(employee.salary)\n",
    "        return f\"Сотрудник: {employee.name}, Зарплата после налогов: {taxed_salary}\"\n",
    "\n",
    "# Класс FileSaver, отвечающий за сохранение отчета в файл\n",
    "class FileSaver:\n",
    "    def save_to_file(self, report):\n",
    "        with open(\"employee.txt\", \"w\") as file:\n",
    "            file.write(report)"
   ]
  },
  {
   "cell_type": "markdown",
   "metadata": {},
   "source": [
    "2. Open/Closed Principle (OCP)\n",
    "Задание 2\n",
    "Вам дан класс, который обрабатывает платежи разными способами:\n",
    "class PaymentProcessor:\n",
    " def process_payment(self, payment_type, amount):\n",
    " if payment_type == \"credit_card\":\n",
    " print(f\"Оплата {amount} через кредитную карту\")\n",
    " elif payment_type == \"paypal\":\n",
    " print(f\"Оплата {amount} через PayPal\")\n",
    "Теперь нужно добавить оплату через Bitcoin, но не изменять уже существующий код метода\n",
    "process_payment.\n",
    "Задача:\n",
    "Используйте принцип OCP, чтобы добавить новую платежную систему без изменения\n",
    "process_payment."
   ]
  },
  {
   "cell_type": "code",
   "execution_count": 2,
   "metadata": {},
   "outputs": [
    {
     "name": "stdout",
     "output_type": "stream",
     "text": [
      "Оплата 100 через кредитную карту\n",
      "Оплата 200 через PayPal\n",
      "Оплата 300 через Bitcoin\n"
     ]
    }
   ],
   "source": [
    "from abc import ABC, abstractmethod\n",
    "\n",
    "# Абстрактный базовый класс для всех типов платежей\n",
    "class PaymentProcessor(ABC):\n",
    "    @abstractmethod\n",
    "    def pay(self, amount):\n",
    "        pass\n",
    "\n",
    "# Класс для обработки платежей кредитной картой\n",
    "class CreditCardPayment(PaymentProcessor):\n",
    "    def pay(self, amount):\n",
    "        print(f\"Оплата {amount} через кредитную карту\")\n",
    "\n",
    "# Класс для обработки платежей через PayPal\n",
    "class PayPalPayment(PaymentProcessor):\n",
    "    def pay(self, amount):\n",
    "        print(f\"Оплата {amount} через PayPal\")\n",
    "\n",
    "# Новый класс для обработки платежей через Bitcoin\n",
    "class BitcoinPayment(PaymentProcessor):\n",
    "    def pay(self, amount):\n",
    "        print(f\"Оплата {amount} через Bitcoin\")\n",
    "\n",
    "# Фасад для выбора способа оплаты\n",
    "def process_payment(payment_processor, amount):\n",
    "    payment_processor.pay(amount)\n",
    "\n",
    "# Пример использования\n",
    "if __name__ == \"__main__\":\n",
    "    credit_card_processor = CreditCardPayment()\n",
    "    paypal_processor = PayPalPayment()\n",
    "    bitcoin_processor = BitcoinPayment()\n",
    "    \n",
    "    process_payment(credit_card_processor, 100)\n",
    "    process_payment(paypal_processor, 200)\n",
    "    process_payment(bitcoin_processor, 300)"
   ]
  },
  {
   "cell_type": "markdown",
   "metadata": {},
   "source": [
    "3. Liskov Substitution Principle (LSP)\n",
    "Задание 3\n",
    "Представьте, что у вас есть два класса:\n",
    "class Vehicle:\n",
    " def start_engine(self):\n",
    " print(\"Двигатель запущен\")\n",
    "class Bicycle(Vehicle):\n",
    " def start_engine(self):\n",
    " raise Exception(\"У велосипеда нет двигателя!\")\n",
    "Вопрос:\n",
    "Что здесь нарушает LSP? Как правильно спроектировать классы?"
   ]
  },
  {
   "cell_type": "code",
   "execution_count": 3,
   "metadata": {},
   "outputs": [
    {
     "name": "stdout",
     "output_type": "stream",
     "text": [
      "Двигатель запущен\n",
      "Транспорт движется\n",
      "Транспорт движется благодаря физической силе\n"
     ]
    }
   ],
   "source": [
    "# Интерфейс для любого транспортного средства\n",
    "class Transport:\n",
    "    def move(self):\n",
    "        \"\"\"Метод движения\"\"\"\n",
    "        pass\n",
    "\n",
    "# Класс для моторизированных транспортных средств\n",
    "class MotorizedTransport(Transport):\n",
    "    def start_engine(self):\n",
    "        print(\"Двигатель запущен\")\n",
    "\n",
    "    def move(self):\n",
    "        self.start_engine()\n",
    "        print(\"Транспорт движется\")\n",
    "\n",
    "# Класс для немеханического транспорта (без двигателя)\n",
    "class NonMotorizedTransport(Transport):\n",
    "    def move(self):\n",
    "        print(\"Транспорт движется благодаря физической силе\")\n",
    "\n",
    "# Примеры конкретных классов\n",
    "class Car(MotorizedTransport):\n",
    "    pass\n",
    "\n",
    "class Bicycle(NonMotorizedTransport):\n",
    "    pass\n",
    "\n",
    "# Использование\n",
    "car = Car()\n",
    "bicycle = Bicycle()\n",
    "\n",
    "car.move()  # Двигатель запущен -> Транспорт движется\n",
    "bicycle.move()  # Транспорт движется благодаря физической силе"
   ]
  },
  {
   "cell_type": "markdown",
   "metadata": {},
   "source": [
    "4. Interface Segregation Principle (ISP)\n",
    "Задание 4\n",
    "Дан интерфейс:\n",
    "class Worker:\n",
    " def work(self):\n",
    " pass\n",
    " def eat(self):\n",
    " pass\n",
    "Теперь есть два типа работников:\n",
    "1. Офисный сотрудник, который и работает, и ест.\n",
    "2. Робот, который только работает.\n",
    "Задача:\n",
    "Переделайте интерфейс, чтобы он соответствовал принципу ISP"
   ]
  },
  {
   "cell_type": "code",
   "execution_count": 4,
   "metadata": {},
   "outputs": [
    {
     "name": "stdout",
     "output_type": "stream",
     "text": [
      "Офисный работник работает.\n",
      "Офисный работник ест.\n",
      "Робот работает.\n"
     ]
    }
   ],
   "source": [
    "# Интерфейсы\n",
    "class Workable:\n",
    "    def work(self):\n",
    "        pass\n",
    "\n",
    "class Edible:\n",
    "    def eat(self):\n",
    "        pass\n",
    "\n",
    "# Работники\n",
    "class OfficeWorker(Workable, Edible):\n",
    "    def work(self):\n",
    "        print(\"Офисный работник работает.\")\n",
    "\n",
    "    def eat(self):\n",
    "        print(\"Офисный работник ест.\")\n",
    "\n",
    "class Robot(Workable):\n",
    "    def work(self):\n",
    "        print(\"Робот работает.\")\n",
    "\n",
    "# Использование\n",
    "office_worker = OfficeWorker()\n",
    "robot = Robot()\n",
    "\n",
    "office_worker.work()  # Офисный работник работает.\n",
    "office_worker.eat()   # Офисный работник ест.\n",
    "\n",
    "robot.work()          # Робот работает."
   ]
  },
  {
   "cell_type": "markdown",
   "metadata": {},
   "source": [
    "5. Dependency Inversion Principle (DIP)\n",
    "Задание 5\n",
    "Вам дан класс, который жестко привязан к отправке SMS:\n",
    "class SMSNotifier:\n",
    " def send(self, message):\n",
    " print(f\"Отправка SMS: {message}\")\n",
    "class OrderProcessor:\n",
    " def __init__(self):\n",
    " self.notifier = SMSNotifier()\n",
    " def process_order(self):\n",
    " print(\"Заказ обработан\")\n",
    " self.notifier.send(\"Ваш заказ подтвержден!\")\n",
    "Теперь вам нужно, чтобы уведомления могли отправляться не только через SMS, но и через\n",
    "Email или Push-уведомления.\n",
    "Задача:\n",
    "Используйте DIP, чтобы OrderProcessor мог работать с разными видами уведомлений без\n",
    "изменения его кода."
   ]
  },
  {
   "cell_type": "code",
   "execution_count": 5,
   "metadata": {},
   "outputs": [
    {
     "name": "stdout",
     "output_type": "stream",
     "text": [
      "Заказ обработан\n",
      "Отправка SMS: Ваш заказ подтвержден!\n",
      "Заказ обработан\n",
      "Отправка Email: Ваш заказ подтвержден!\n",
      "Заказ обработан\n",
      "Отправка Push-уведомления: Ваш заказ подтвержден!\n"
     ]
    }
   ],
   "source": [
    "# Определение интерфейса для отправки уведомлений\n",
    "class Notifier:\n",
    "    def send(self, message):\n",
    "        pass\n",
    "\n",
    "# Конкретная реализация для отправки SMS\n",
    "class SMSNotifier(Notifier):\n",
    "    def send(self, message):\n",
    "        print(f\"Отправка SMS: {message}\")\n",
    "\n",
    "# Конкретная реализация для отправки Email\n",
    "class EmailNotifier(Notifier):\n",
    "    def send(self, message):\n",
    "        print(f\"Отправка Email: {message}\")\n",
    "\n",
    "# Конкретная реализация для отправки Push-уведомлений\n",
    "class PushNotifier(Notifier):\n",
    "    def send(self, message):\n",
    "        print(f\"Отправка Push-уведомления: {message}\")\n",
    "\n",
    "# Класс OrderProcessor, который использует интерфейс Notifier\n",
    "class OrderProcessor:\n",
    "    def __init__(self, notifier: Notifier):\n",
    "        self.notifier = notifier\n",
    "\n",
    "    def process_order(self):\n",
    "        print(\"Заказ обработан\")\n",
    "        self.notifier.send(\"Ваш заказ подтвержден!\")\n",
    "\n",
    "# Пример использования\n",
    "sms_notifier = SMSNotifier()\n",
    "email_notifier = EmailNotifier()\n",
    "push_notifier = PushNotifier()\n",
    "\n",
    "order_processor_sms = OrderProcessor(sms_notifier)\n",
    "order_processor_email = OrderProcessor(email_notifier)\n",
    "order_processor_push = OrderProcessor(push_notifier)\n",
    "\n",
    "order_processor_sms.process_order()     # Заказ обработан -> Отправка SMS: Ваш заказ подтвержден!\n",
    "order_processor_email.process_order()   # Заказ обработан -> Отправка Email: Ваш заказ подтвержден!\n",
    "order_processor_push.process_order()    # Заказ обработан -> Отправка Push-уведомления: Ваш заказ подтвержден!"
   ]
  }
 ],
 "metadata": {
  "kernelspec": {
   "display_name": "Python 3",
   "language": "python",
   "name": "python3"
  },
  "language_info": {
   "codemirror_mode": {
    "name": "ipython",
    "version": 3
   },
   "file_extension": ".py",
   "mimetype": "text/x-python",
   "name": "python",
   "nbconvert_exporter": "python",
   "pygments_lexer": "ipython3",
   "version": "3.11.9"
  }
 },
 "nbformat": 4,
 "nbformat_minor": 2
}
