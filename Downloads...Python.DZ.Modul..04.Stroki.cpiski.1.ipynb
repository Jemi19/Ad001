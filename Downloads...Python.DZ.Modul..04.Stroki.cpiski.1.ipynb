{
 "cells": [
  {
   "attachments": {},
   "cell_type": "markdown",
   "metadata": {},
   "source": [
    "10.10.2024\n",
    "\n",
    "Модуль 4.\n",
    "\n",
    "Строки. Списки.\n",
    "Часть 1"
   ]
  },
  {
   "attachments": {},
   "cell_type": "markdown",
   "metadata": {},
   "source": [
    "Задание 1\n",
    "Пользователь вводит с клавиатуры строку. Проверьте \n",
    "является ли введенная строка палиндромом. Палиндром - слева направо и справа налево. Например, кок; А роза \n",
    "упала на лапу Азора; доход; А буду я у дуба."
   ]
  },
  {
   "cell_type": "code",
   "execution_count": 33,
   "metadata": {},
   "outputs": [
    {
     "name": "stdout",
     "output_type": "stream",
     "text": [
      "да, это палиндром\n"
     ]
    }
   ],
   "source": [
    "while True:\n",
    "    text = input('Введите текст: ')\n",
    "\n",
    "    # Ввели пустую строку\n",
    "    if not text:\n",
    "        break\n",
    "\n",
    "    if (text):\n",
    "        print('да, это палиндром')\n",
    "    else:\n",
    "        print('Нет, это не палиндром')\n",
    "\n",
    "\n"
   ]
  },
  {
   "attachments": {},
   "cell_type": "markdown",
   "metadata": {},
   "source": [
    "Задание 2\n",
    "Пользователь вводит с клавиатуры некоторый текст, \n",
    "после чего пользователь вводит список зарезервированных \n",
    "слов. Необходимо найти в тексте все зарезервированные \n",
    "слова и изменить их регистр на верхний. Вывести на \n",
    "экран измененный текст. "
   ]
  },
  {
   "cell_type": "code",
   "execution_count": 34,
   "metadata": {},
   "outputs": [
    {
     "name": "stdout",
     "output_type": "stream",
     "text": [
      "весь САД в дожде! весь дождь в саду! погибнут дождь и САД друг в друге, оставив мне решать судьбу зимы, явившейся на юге.\n"
     ]
    }
   ],
   "source": [
    "phrase = input(\"Введите текст: \").lower().split()\n",
    "words = input(\"Введите нужные слова: \").lower().split()\n",
    "for i, w in enumerate(phrase):\n",
    "    if w in words:\n",
    "        phrase[i] = w.upper()\n",
    "print(\" \".join(phrase))"
   ]
  },
  {
   "attachments": {},
   "cell_type": "markdown",
   "metadata": {},
   "source": [
    "Задание 3\n",
    "Есть некоторый текст. Посчитайте в этом тексте ко\u0002личество предложений и выведите на экран полученный \n",
    "результат."
   ]
  },
  {
   "cell_type": "code",
   "execution_count": 35,
   "metadata": {},
   "outputs": [
    {
     "name": "stdout",
     "output_type": "stream",
     "text": [
      "15\n"
     ]
    }
   ],
   "source": [
    "from re import split\n",
    "print(sum(any(map(str.isalpha, s)) for s in split(r'[.!?]+', input())))"
   ]
  }
 ],
 "metadata": {
  "kernelspec": {
   "display_name": "Python 3",
   "language": "python",
   "name": "python3"
  },
  "language_info": {
   "codemirror_mode": {
    "name": "ipython",
    "version": 3
   },
   "file_extension": ".py",
   "mimetype": "text/x-python",
   "name": "python",
   "nbconvert_exporter": "python",
   "pygments_lexer": "ipython3",
   "version": "3.12.6"
  },
  "orig_nbformat": 4,
  "vscode": {
   "interpreter": {
    "hash": "85d1b76ef1652c4b6aec9325268f9d6808e090202523f56ed242f60e6238b907"
   }
  }
 },
 "nbformat": 4,
 "nbformat_minor": 2
}
