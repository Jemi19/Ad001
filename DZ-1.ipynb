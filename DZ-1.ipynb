{
 "cells": [
  {
   "cell_type": "markdown",
   "metadata": {},
   "source": [
    "1. Числа Фибоначчи: Напишите программу, которая выводит первые 50 чисел Фибоначчи. Напоминаем, что ряд Фибоначчи начинается с чисел 0 и 1, а каждое последующее число равно сумме двух предыдущих."
   ]
  },
  {
   "cell_type": "code",
   "execution_count": null,
   "metadata": {},
   "outputs": [],
   "source": [
    "# Функция для вычисления чисел Фибоначчи\n",
    "def fibonacci(n):\n",
    "    fib_sequence = [0, 1]\n",
    "    while len(fib_sequence) < n:\n",
    "        fib_sequence.append(fib_sequence[-1] + fib_sequence[-2])\n",
    "    return fib_sequence\n",
    "\n",
    "print(fibonacci(50))"
   ]
  },
  {
   "cell_type": "markdown",
   "metadata": {},
   "source": [
    "2. Сумма цифр: Напишите программу, которая принимает на вход натуральное число и вычисляет сумму его цифр."
   ]
  },
  {
   "cell_type": "code",
   "execution_count": null,
   "metadata": {},
   "outputs": [],
   "source": [
    "# Функция для вычисления суммы цифр числа\n",
    "def sum_of_digits(n):\n",
    "    return sum(int(digit) for digit in str(n))\n",
    "\n",
    "# Ввод числа от пользователя\n",
    "n = int(input(\"Введите число: \"))\n",
    "\n",
    "# Вывод суммы цифр\n",
    "print(\"Сумма цифр:\", sum_of_digits(n))"
   ]
  },
  {
   "cell_type": "markdown",
   "metadata": {},
   "source": [
    "3. Игра \"Угадай число\": Напишите программу, которая \"загадывает\" случайное число от 1 до 100 и предлагает пользователю его угадать. После каждого ввода числа программа должна сообщать, больше загаданное число, меньше или равно. Игра продолжается, пока пользователь не угадает число. В конце игры программа должна вывести количество попыток."
   ]
  },
  {
   "cell_type": "code",
   "execution_count": null,
   "metadata": {},
   "outputs": [],
   "source": [
    "# Импорт модуля random\n",
    "import random\n",
    "\n",
    "# Загаданное число\n",
    "secret_number = random.randint(1, 100)\n",
    "\n",
    "# Количество попыток\n",
    "attempts = 0\n",
    "\n",
    "# Игра продолжается, пока пользователь не угадает число\n",
    "while True:\n",
    "    # Ввод числа от пользователя\n",
    "    user_number = int(input(\"Угадайте число от 1 до 100: \"))\n",
    "\n",
    "    # Увеличение количества попыток\n",
    "    attempts += 1\n",
    "\n",
    "    # Проверка числа\n",
    "    if user_number < secret_number:\n",
    "        print(\"Загаданное число больше.\")\n",
    "    elif user_number > secret_number:\n",
    "        print(\"Загаданное число меньше.\")\n",
    "    else:\n",
    "        print(\"Поздравляем! Вы угадали число за\", attempts, \"попыток.\")\n",
    "        break"
   ]
  },
  {
   "cell_type": "markdown",
   "metadata": {},
   "source": [
    "4. Звездочки: Напишите программу, которая рисует прямоугольник из звездочек, используя циклы. Пользователь вводит высоту и ширину прямоугольника."
   ]
  },
  {
   "cell_type": "code",
   "execution_count": 7,
   "metadata": {},
   "outputs": [
    {
     "name": "stdout",
     "output_type": "stream",
     "text": [
      "* * * * * * \n",
      "* * * * * * \n",
      "* * * * * * \n",
      "* * * * * * \n",
      "* * * * * * \n"
     ]
    }
   ],
   "source": [
    "# Ввод высоты и ширины прямоугольника от пользователя\n",
    "height = int(input(\"Введите высоту прямоугольника: \"))\n",
    "width = int(input(\"Введите ширину прямоугольника: \"))\n",
    "\n",
    "# Рисование прямоугольника из звездочек\n",
    "for i in range(height):\n",
    "    for j in range(width):\n",
    "        print(\"*\", end=\" \")\n",
    "    print()"
   ]
  },
  {
   "cell_type": "markdown",
   "metadata": {},
   "source": [
    "5. Факториал: Напишите программу, которая вычисляет факториал заданного пользователем числа. Факториал числа n (обозначается n!) — это произведение всех натуральных чисел от 1 до n. Использовать функцию factorial() из библиотеки math запрещается!"
   ]
  },
  {
   "cell_type": "code",
   "execution_count": 9,
   "metadata": {},
   "outputs": [
    {
     "name": "stdout",
     "output_type": "stream",
     "text": [
      "Факториал: 24\n"
     ]
    }
   ],
   "source": [
    "# Ввод числа от пользователя\n",
    "n = int(input(\"Введите число: \"))\n",
    "\n",
    "# Инициализация переменной для факториала\n",
    "factorial = 1\n",
    "\n",
    "# Вычисление факториала\n",
    "for i in range(1, n + 1):\n",
    "    factorial *= i\n",
    "\n",
    "# Вывод факториала\n",
    "print(\"Факториал:\", factorial)"
   ]
  }
 ],
 "metadata": {
  "kernelspec": {
   "display_name": "Python 3",
   "language": "python",
   "name": "python3"
  },
  "language_info": {
   "codemirror_mode": {
    "name": "ipython",
    "version": 3
   },
   "file_extension": ".py",
   "mimetype": "text/x-python",
   "name": "python",
   "nbconvert_exporter": "python",
   "pygments_lexer": "ipython3",
   "version": "3.12.5"
  }
 },
 "nbformat": 4,
 "nbformat_minor": 2
}
